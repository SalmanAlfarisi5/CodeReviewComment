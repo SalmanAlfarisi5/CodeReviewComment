{
 "cells": [
  {
   "cell_type": "code",
   "execution_count": 1,
   "id": "4891c1b5",
   "metadata": {},
   "outputs": [
    {
     "name": "stderr",
     "output_type": "stream",
     "text": [
      "/home/salman/anaconda3/envs/GPU/lib/python3.10/site-packages/tqdm/auto.py:21: TqdmWarning: IProgress not found. Please update jupyter and ipywidgets. See https://ipywidgets.readthedocs.io/en/stable/user_install.html\n",
      "  from .autonotebook import tqdm as notebook_tqdm\n",
      "2025-06-22 22:26:26.223444: I tensorflow/core/util/port.cc:153] oneDNN custom operations are on. You may see slightly different numerical results due to floating-point round-off errors from different computation orders. To turn them off, set the environment variable `TF_ENABLE_ONEDNN_OPTS=0`.\n",
      "2025-06-22 22:26:26.230272: E external/local_xla/xla/stream_executor/cuda/cuda_fft.cc:467] Unable to register cuFFT factory: Attempting to register factory for plugin cuFFT when one has already been registered\n",
      "WARNING: All log messages before absl::InitializeLog() is called are written to STDERR\n",
      "E0000 00:00:1750602386.239494   68796 cuda_dnn.cc:8579] Unable to register cuDNN factory: Attempting to register factory for plugin cuDNN when one has already been registered\n",
      "E0000 00:00:1750602386.242387   68796 cuda_blas.cc:1407] Unable to register cuBLAS factory: Attempting to register factory for plugin cuBLAS when one has already been registered\n",
      "W0000 00:00:1750602386.249715   68796 computation_placer.cc:177] computation placer already registered. Please check linkage and avoid linking the same target more than once.\n",
      "W0000 00:00:1750602386.249724   68796 computation_placer.cc:177] computation placer already registered. Please check linkage and avoid linking the same target more than once.\n",
      "W0000 00:00:1750602386.249725   68796 computation_placer.cc:177] computation placer already registered. Please check linkage and avoid linking the same target more than once.\n",
      "W0000 00:00:1750602386.249725   68796 computation_placer.cc:177] computation placer already registered. Please check linkage and avoid linking the same target more than once.\n",
      "2025-06-22 22:26:26.252144: I tensorflow/core/platform/cpu_feature_guard.cc:210] This TensorFlow binary is optimized to use available CPU instructions in performance-critical operations.\n",
      "To enable the following instructions: AVX2 AVX_VNNI FMA, in other operations, rebuild TensorFlow with the appropriate compiler flags.\n"
     ]
    },
    {
     "data": {
      "text/plain": [
       "<torch._C.Generator at 0x7de110b1e0d0>"
      ]
     },
     "execution_count": 1,
     "metadata": {},
     "output_type": "execute_result"
    }
   ],
   "source": [
    "# -------------------- imports & setup --------------------\n",
    "import pandas as pd \n",
    "import numpy as np\n",
    "import seaborn as sns\n",
    "import matplotlib.pyplot as plt\n",
    "import random\n",
    "import warnings\n",
    "import torch\n",
    "import os\n",
    "from tqdm.auto import tqdm\n",
    "from sentence_transformers import SentenceTransformer\n",
    "\n",
    "from catboost import CatBoostClassifier\n",
    "from sklearn.model_selection import train_test_split, GridSearchCV\n",
    "from sklearn.metrics import accuracy_score, classification_report, confusion_matrix\n",
    "\n",
    "warnings.filterwarnings(\"ignore\")\n",
    "SEED = 42\n",
    "random.seed(SEED); np.random.seed(SEED); torch.manual_seed(SEED)"
   ]
  },
  {
   "cell_type": "code",
   "execution_count": 2,
   "id": "6ab2f84f",
   "metadata": {},
   "outputs": [
    {
     "name": "stdout",
     "output_type": "stream",
     "text": [
      "Train size: 837    Val size: 94\n"
     ]
    }
   ],
   "source": [
    "# -------------------- data --------------------\n",
    "train_df = pd.read_excel(\"../Datasets/Train.xlsx\")\n",
    "test_df  = pd.read_excel(\"../Datasets/Test.xlsx\")\n",
    "\n",
    "X_full = train_df[\"Review Comment\"]\n",
    "y_full = train_df[\"Expected Operation by Developer\"]\n",
    "\n",
    "X_train, X_val, y_train, y_val = train_test_split(\n",
    "    X_full, y_full, test_size=0.10, random_state=SEED, stratify=y_full\n",
    ")\n",
    "\n",
    "print(\"Train size:\", len(X_train), \"   Val size:\", len(X_val))"
   ]
  },
  {
   "cell_type": "code",
   "execution_count": 3,
   "id": "37b8620b",
   "metadata": {},
   "outputs": [
    {
     "name": "stderr",
     "output_type": "stream",
     "text": [
      "Batches: 100%|██████████| 14/14 [00:00<00:00, 40.85it/s]\n",
      "Batches: 100%|██████████| 2/2 [00:00<00:00, 34.17it/s]\n"
     ]
    }
   ],
   "source": [
    "# -------------------- sentence-transformer embeddings --------------------\n",
    "device   = \"cuda\" if torch.cuda.is_available() else \"cpu\"   # put encoder on GPU\n",
    "embedder = SentenceTransformer(\"all-MiniLM-L6-v2\", device=device)\n",
    "\n",
    "def embed(texts):\n",
    "    \"\"\"Returns float32 numpy array (CatBoost prefers float32).\"\"\"\n",
    "    return embedder.encode(\n",
    "        texts.tolist(), show_progress_bar=True, batch_size=64, device=device\n",
    "    ).astype(np.float32)\n",
    "\n",
    "Xtr_emb  = embed(X_train)\n",
    "Xval_emb = embed(X_val)"
   ]
  },
  {
   "cell_type": "code",
   "execution_count": 4,
   "id": "a28bfbd0",
   "metadata": {},
   "outputs": [
    {
     "name": "stderr",
     "output_type": "stream",
     "text": [
      "Warning: less than 75% gpu memory available for training. Free: 4790.1875 Total: 7828.3125\n"
     ]
    },
    {
     "name": "stdout",
     "output_type": "stream",
     "text": [
      "Fitting 5 folds for each of 36 candidates, totalling 180 fits\n"
     ]
    },
    {
     "name": "stderr",
     "output_type": "stream",
     "text": [
      "Warning: less than 75% gpu memory available for training. Free: 4837.0625 Total: 7828.3125\n",
      "Warning: less than 75% gpu memory available for training. Free: 4838.6875 Total: 7828.3125\n",
      "Warning: less than 75% gpu memory available for training. Free: 4838.8125 Total: 7828.3125\n",
      "Warning: less than 75% gpu memory available for training. Free: 4845 Total: 7828.3125\n",
      "Warning: less than 75% gpu memory available for training. Free: 4843 Total: 7828.3125\n",
      "Warning: less than 75% gpu memory available for training. Free: 4841 Total: 7828.3125\n",
      "Warning: less than 75% gpu memory available for training. Free: 4843 Total: 7828.3125\n",
      "Warning: less than 75% gpu memory available for training. Free: 5513.1875 Total: 7828.3125\n",
      "Warning: less than 75% gpu memory available for training. Free: 5609.1875 Total: 7828.3125\n",
      "Warning: less than 75% gpu memory available for training. Free: 5601.1875 Total: 7828.3125\n",
      "Warning: less than 75% gpu memory available for training. Free: 5579 Total: 7828.3125\n",
      "Warning: less than 75% gpu memory available for training. Free: 5601.1875 Total: 7828.3125\n",
      "Warning: less than 75% gpu memory available for training. Free: 5593.375 Total: 7828.3125\n",
      "Warning: less than 75% gpu memory available for training. Free: 5584.375 Total: 7828.3125\n",
      "Warning: less than 75% gpu memory available for training. Free: 5601.25 Total: 7828.3125\n",
      "Warning: less than 75% gpu memory available for training. Free: 5601.375 Total: 7828.3125\n",
      "Warning: less than 75% gpu memory available for training. Free: 5608.625 Total: 7828.3125\n",
      "Warning: less than 75% gpu memory available for training. Free: 5593.125 Total: 7828.3125\n",
      "Warning: less than 75% gpu memory available for training. Free: 5592.6875 Total: 7828.3125\n",
      "Warning: less than 75% gpu memory available for training. Free: 5598.6875 Total: 7828.3125\n",
      "Warning: less than 75% gpu memory available for training. Free: 5578.9375 Total: 7828.3125\n",
      "Warning: less than 75% gpu memory available for training. Free: 5576.625 Total: 7828.3125\n",
      "Warning: less than 75% gpu memory available for training. Free: 5575 Total: 7828.3125\n",
      "Warning: less than 75% gpu memory available for training. Free: 5562.9375 Total: 7828.3125\n",
      "Warning: less than 75% gpu memory available for training. Free: 5569 Total: 7828.3125\n",
      "Warning: less than 75% gpu memory available for training. Free: 5578.625 Total: 7828.3125\n",
      "Warning: less than 75% gpu memory available for training. Free: 5608.6875 Total: 7828.3125\n",
      "Warning: less than 75% gpu memory available for training. Free: 5592.25 Total: 7828.3125\n",
      "Warning: less than 75% gpu memory available for training. Free: 5593.25 Total: 7828.3125\n",
      "Warning: less than 75% gpu memory available for training. Free: 5576.8125 Total: 7828.3125\n",
      "Warning: less than 75% gpu memory available for training. Free: 5642.125 Total: 7828.3125\n",
      "Warning: less than 75% gpu memory available for training. Free: 5562.3125 Total: 7828.3125\n",
      "Warning: less than 75% gpu memory available for training. Free: 5644.3125 Total: 7828.3125\n",
      "Warning: less than 75% gpu memory available for training. Free: 5578.3125 Total: 7828.3125\n",
      "Warning: less than 75% gpu memory available for training. Free: 5644.3125 Total: 7828.3125\n",
      "Warning: less than 75% gpu memory available for training. Free: 5568.3125 Total: 7828.3125\n",
      "Warning: less than 75% gpu memory available for training. Free: 5626.3125 Total: 7828.3125\n",
      "Warning: less than 75% gpu memory available for training. Free: 5604.3125 Total: 7828.3125\n",
      "Warning: less than 75% gpu memory available for training. Free: 5578.3125 Total: 7828.3125\n",
      "Warning: less than 75% gpu memory available for training. Free: 5610.4375 Total: 7828.3125\n",
      "Warning: less than 75% gpu memory available for training. Free: 5620.4375 Total: 7828.3125\n",
      "Warning: less than 75% gpu memory available for training. Free: 5594.4375 Total: 7828.3125\n",
      "Warning: less than 75% gpu memory available for training. Free: 5626.4375 Total: 7828.3125\n",
      "Warning: less than 75% gpu memory available for training. Free: 5576.6875 Total: 7828.3125\n",
      "Warning: less than 75% gpu memory available for training. Free: 5630.75 Total: 7828.3125\n",
      "Warning: less than 75% gpu memory available for training. Free: 5580.75 Total: 7828.3125\n",
      "Warning: less than 75% gpu memory available for training. Free: 5621.5 Total: 7828.3125\n",
      "Warning: less than 75% gpu memory available for training. Free: 5573.5625 Total: 7828.3125\n",
      "Warning: less than 75% gpu memory available for training. Free: 5630.5 Total: 7828.3125\n",
      "Warning: less than 75% gpu memory available for training. Free: 5551.375 Total: 7828.3125\n",
      "Warning: less than 75% gpu memory available for training. Free: 5652.0625 Total: 7828.3125\n",
      "Warning: less than 75% gpu memory available for training. Free: 5566.5 Total: 7828.3125\n",
      "Warning: less than 75% gpu memory available for training. Free: 5578.5625 Total: 7828.3125\n",
      "Warning: less than 75% gpu memory available for training. Free: 5594.8125 Total: 7828.3125\n",
      "Warning: less than 75% gpu memory available for training. Free: 5597.3125 Total: 7828.3125\n",
      "Warning: less than 75% gpu memory available for training. Free: 5622.5 Total: 7828.3125\n",
      "Warning: less than 75% gpu memory available for training. Free: 5592.6875 Total: 7828.3125\n",
      "Warning: less than 75% gpu memory available for training. Free: 5581.75 Total: 7828.3125\n",
      "Warning: less than 75% gpu memory available for training. Free: 5640.9375 Total: 7828.3125\n",
      "Warning: less than 75% gpu memory available for training. Free: 5582.5 Total: 7828.3125\n",
      "Warning: less than 75% gpu memory available for training. Free: 5617.4375 Total: 7828.3125\n",
      "Warning: less than 75% gpu memory available for training. Free: 5611.25 Total: 7828.3125\n",
      "Warning: less than 75% gpu memory available for training. Free: 5621.0625 Total: 7828.3125\n",
      "Warning: less than 75% gpu memory available for training. Free: 5578.8125 Total: 7828.3125\n",
      "Warning: less than 75% gpu memory available for training. Free: 5356.8125 Total: 7828.3125\n",
      "Warning: less than 75% gpu memory available for training. Free: 5545.8125 Total: 7828.3125\n",
      "Warning: less than 75% gpu memory available for training. Free: 5370.9375 Total: 7828.3125\n",
      "Warning: less than 75% gpu memory available for training. Free: 5546.9375 Total: 7828.3125\n",
      "Warning: less than 75% gpu memory available for training. Free: 5400.8125 Total: 7828.3125\n",
      "Warning: less than 75% gpu memory available for training. Free: 5514.8125 Total: 7828.3125\n",
      "Warning: less than 75% gpu memory available for training. Free: 5418.75 Total: 7828.3125\n",
      "Warning: less than 75% gpu memory available for training. Free: 5473.3125 Total: 7828.3125\n",
      "Warning: less than 75% gpu memory available for training. Free: 5449.9375 Total: 7828.3125\n",
      "Warning: less than 75% gpu memory available for training. Free: 5449.9375 Total: 7828.3125\n",
      "Warning: less than 75% gpu memory available for training. Free: 5441.9375 Total: 7828.3125\n",
      "Warning: less than 75% gpu memory available for training. Free: 5463.9375 Total: 7828.3125\n",
      "Warning: less than 75% gpu memory available for training. Free: 5421.9375 Total: 7828.3125\n",
      "Warning: less than 75% gpu memory available for training. Free: 5497.9375 Total: 7828.3125\n",
      "Warning: less than 75% gpu memory available for training. Free: 5353.5625 Total: 7828.3125\n",
      "Warning: less than 75% gpu memory available for training. Free: 5469.125 Total: 7828.3125\n",
      "Warning: less than 75% gpu memory available for training. Free: 5305.75 Total: 7828.3125\n",
      "Warning: less than 75% gpu memory available for training. Free: 5499.6875 Total: 7828.3125\n",
      "Warning: less than 75% gpu memory available for training. Free: 5318.4375 Total: 7828.3125\n",
      "Warning: less than 75% gpu memory available for training. Free: 5528 Total: 7828.3125\n",
      "Warning: less than 75% gpu memory available for training. Free: 5348.5625 Total: 7828.3125\n",
      "Warning: less than 75% gpu memory available for training. Free: 5479.5625 Total: 7828.3125\n",
      "Warning: less than 75% gpu memory available for training. Free: 5427.75 Total: 7828.3125\n",
      "Warning: less than 75% gpu memory available for training. Free: 5434.5 Total: 7828.3125\n",
      "Warning: less than 75% gpu memory available for training. Free: 5288.75 Total: 7828.3125\n",
      "Warning: less than 75% gpu memory available for training. Free: 5502.625 Total: 7828.3125\n",
      "Warning: less than 75% gpu memory available for training. Free: 5272.4375 Total: 7828.3125\n",
      "Warning: less than 75% gpu memory available for training. Free: 5344.1875 Total: 7828.3125\n",
      "Warning: less than 75% gpu memory available for training. Free: 5256.1875 Total: 7828.3125\n",
      "Warning: less than 75% gpu memory available for training. Free: 5338.5625 Total: 7828.3125\n",
      "Warning: less than 75% gpu memory available for training. Free: 5222.0625 Total: 7828.3125\n",
      "Warning: less than 75% gpu memory available for training. Free: 5429.1875 Total: 7828.3125\n",
      "Warning: less than 75% gpu memory available for training. Free: 5589.0625 Total: 7828.3125\n",
      "Warning: less than 75% gpu memory available for training. Free: 5442.9375 Total: 7828.3125\n",
      "Warning: less than 75% gpu memory available for training. Free: 5321.3125 Total: 7828.3125\n",
      "Warning: less than 75% gpu memory available for training. Free: 5125 Total: 7828.3125\n",
      "Warning: less than 75% gpu memory available for training. Free: 5487.875 Total: 7828.3125\n",
      "Warning: less than 75% gpu memory available for training. Free: 5396.6875 Total: 7828.3125\n",
      "Warning: less than 75% gpu memory available for training. Free: 5220.6875 Total: 7828.3125\n",
      "Warning: less than 75% gpu memory available for training. Free: 5518.625 Total: 7828.3125\n",
      "Warning: less than 75% gpu memory available for training. Free: 5446.75 Total: 7828.3125\n",
      "Warning: less than 75% gpu memory available for training. Free: 5616.75 Total: 7828.3125\n",
      "Warning: less than 75% gpu memory available for training. Free: 5464.75 Total: 7828.3125\n",
      "Warning: less than 75% gpu memory available for training. Free: 5436.4375 Total: 7828.3125\n",
      "Warning: less than 75% gpu memory available for training. Free: 5393 Total: 7828.3125\n",
      "Warning: less than 75% gpu memory available for training. Free: 5559.875 Total: 7828.3125\n",
      "Warning: less than 75% gpu memory available for training. Free: 5596.1875 Total: 7828.3125\n",
      "Warning: less than 75% gpu memory available for training. Free: 5484.625 Total: 7828.3125\n",
      "Warning: less than 75% gpu memory available for training. Free: 5500.625 Total: 7828.3125\n",
      "Warning: less than 75% gpu memory available for training. Free: 5292.25 Total: 7828.3125\n",
      "Warning: less than 75% gpu memory available for training. Free: 5338.5625 Total: 7828.3125\n",
      "Warning: less than 75% gpu memory available for training. Free: 5354.5625 Total: 7828.3125\n",
      "Warning: less than 75% gpu memory available for training. Free: 5340.5 Total: 7828.3125\n",
      "Warning: less than 75% gpu memory available for training. Free: 5398.5625 Total: 7828.3125\n",
      "Warning: less than 75% gpu memory available for training. Free: 5258.5625 Total: 7828.3125\n",
      "Warning: less than 75% gpu memory available for training. Free: 5542.5625 Total: 7828.3125\n",
      "Warning: less than 75% gpu memory available for training. Free: 5526.5625 Total: 7828.3125\n",
      "Warning: less than 75% gpu memory available for training. Free: 5715 Total: 7828.3125\n",
      "Warning: less than 75% gpu memory available for training. Free: 5529 Total: 7828.3125\n",
      "Warning: less than 75% gpu memory available for training. Free: 5335 Total: 7828.3125\n",
      "Warning: less than 75% gpu memory available for training. Free: 5635 Total: 7828.3125\n",
      "Warning: less than 75% gpu memory available for training. Free: 5555 Total: 7828.3125\n",
      "Warning: less than 75% gpu memory available for training. Free: 5621 Total: 7828.3125\n",
      "Warning: less than 75% gpu memory available for training. Free: 5605 Total: 7828.3125\n",
      "Warning: less than 75% gpu memory available for training. Free: 5699 Total: 7828.3125\n",
      "Warning: less than 75% gpu memory available for training. Free: 5651 Total: 7828.3125\n",
      "Warning: less than 75% gpu memory available for training. Free: 5667 Total: 7828.3125\n",
      "Warning: less than 75% gpu memory available for training. Free: 5641 Total: 7828.3125\n",
      "Warning: less than 75% gpu memory available for training. Free: 5717 Total: 7828.3125\n",
      "Warning: less than 75% gpu memory available for training. Free: 5693.0625 Total: 7828.3125\n",
      "Warning: less than 75% gpu memory available for training. Free: 5483.5625 Total: 7828.3125\n",
      "Warning: less than 75% gpu memory available for training. Free: 5757.5625 Total: 7828.3125\n",
      "Warning: less than 75% gpu memory available for training. Free: 5567.5 Total: 7828.3125\n",
      "Warning: less than 75% gpu memory available for training. Free: 5393.5625 Total: 7828.3125\n",
      "Warning: less than 75% gpu memory available for training. Free: 5638.5 Total: 7828.3125\n",
      "Warning: less than 75% gpu memory available for training. Free: 5574.5625 Total: 7828.3125\n",
      "Warning: less than 75% gpu memory available for training. Free: 5436.5625 Total: 7828.3125\n",
      "Warning: less than 75% gpu memory available for training. Free: 5530.5625 Total: 7828.3125\n",
      "Warning: less than 75% gpu memory available for training. Free: 5686.5625 Total: 7828.3125\n",
      "Warning: less than 75% gpu memory available for training. Free: 5590.5625 Total: 7828.3125\n",
      "Warning: less than 75% gpu memory available for training. Free: 5370.5625 Total: 7828.3125\n",
      "Warning: less than 75% gpu memory available for training. Free: 5736.5625 Total: 7828.3125\n",
      "Warning: less than 75% gpu memory available for training. Free: 5670.5625 Total: 7828.3125\n",
      "Warning: less than 75% gpu memory available for training. Free: 5702.5625 Total: 7828.3125\n",
      "Warning: less than 75% gpu memory available for training. Free: 5782.5 Total: 7828.3125\n",
      "Warning: less than 75% gpu memory available for training. Free: 5692.5625 Total: 7828.3125\n",
      "Warning: less than 75% gpu memory available for training. Free: 5570.875 Total: 7828.3125\n",
      "Warning: less than 75% gpu memory available for training. Free: 5629.375 Total: 7828.3125\n",
      "Warning: less than 75% gpu memory available for training. Free: 5515.375 Total: 7828.3125\n",
      "Warning: less than 75% gpu memory available for training. Free: 5647.375 Total: 7828.3125\n",
      "Warning: less than 75% gpu memory available for training. Free: 5609.375 Total: 7828.3125\n",
      "Warning: less than 75% gpu memory available for training. Free: 5653.6875 Total: 7828.3125\n",
      "Warning: less than 75% gpu memory available for training. Free: 5555.6875 Total: 7828.3125\n",
      "Warning: less than 75% gpu memory available for training. Free: 5315.6875 Total: 7828.3125\n",
      "Warning: less than 75% gpu memory available for training. Free: 5077.6875 Total: 7828.3125\n",
      "Warning: less than 75% gpu memory available for training. Free: 4933.625 Total: 7828.3125\n",
      "Warning: less than 75% gpu memory available for training. Free: 4917.6875 Total: 7828.3125\n",
      "Warning: less than 75% gpu memory available for training. Free: 4917.6875 Total: 7828.3125\n",
      "Warning: less than 75% gpu memory available for training. Free: 4919.6875 Total: 7828.3125\n",
      "Warning: less than 75% gpu memory available for training. Free: 4909.75 Total: 7828.3125\n",
      "Warning: less than 75% gpu memory available for training. Free: 4927.6875 Total: 7828.3125\n",
      "Warning: less than 75% gpu memory available for training. Free: 4929.75 Total: 7828.3125\n",
      "Warning: less than 75% gpu memory available for training. Free: 4929.75 Total: 7828.3125\n",
      "Warning: less than 75% gpu memory available for training. Free: 4931.75 Total: 7828.3125\n",
      "Warning: less than 75% gpu memory available for training. Free: 4830.375 Total: 7828.3125\n",
      "Warning: less than 75% gpu memory available for training. Free: 4862.75 Total: 7828.3125\n",
      "Warning: less than 75% gpu memory available for training. Free: 4893.4375 Total: 7828.3125\n",
      "Warning: less than 75% gpu memory available for training. Free: 4893.5625 Total: 7828.3125\n",
      "Warning: less than 75% gpu memory available for training. Free: 4893.5625 Total: 7828.3125\n",
      "Warning: less than 75% gpu memory available for training. Free: 4893.5625 Total: 7828.3125\n",
      "Warning: less than 75% gpu memory available for training. Free: 4893.5625 Total: 7828.3125\n",
      "Warning: less than 75% gpu memory available for training. Free: 4893.5625 Total: 7828.3125\n",
      "Warning: less than 75% gpu memory available for training. Free: 5517.5625 Total: 7828.3125\n",
      "Warning: less than 75% gpu memory available for training. Free: 5389.5625 Total: 7828.3125\n",
      "Warning: less than 75% gpu memory available for training. Free: 5197.875 Total: 7828.3125\n",
      "Warning: less than 75% gpu memory available for training. Free: 5254.25 Total: 7828.3125\n"
     ]
    },
    {
     "name": "stdout",
     "output_type": "stream",
     "text": [
      "Best CV-accuracy : 0.5650199600798402\n",
      "Best params      : {'depth': 6, 'iterations': 600, 'l2_leaf_reg': 1, 'learning_rate': 0.1}\n"
     ]
    }
   ],
   "source": [
    "# -------------------- CatBoost on GPU --------------------\n",
    "base_cb = CatBoostClassifier(\n",
    "    loss_function=\"MultiClass\",\n",
    "    random_seed=SEED,\n",
    "    verbose=False,          # silence training logs\n",
    "    task_type=\"GPU\",        # crucial—forces training on GPU\n",
    "    devices=\"0\",\n",
    "    thread_count=-1,              \n",
    ")\n",
    "\n",
    "param_grid = {\n",
    "    \"iterations\":     [300, 600],\n",
    "    \"learning_rate\":  [0.05, 0.1],\n",
    "    \"depth\":          [6, 8, 10],\n",
    "    \"l2_leaf_reg\":    [1, 3, 5]\n",
    "}\n",
    "\n",
    "search = GridSearchCV(\n",
    "    base_cb, param_grid,\n",
    "    cv=5, n_jobs=1, scoring=\"accuracy\", verbose=1\n",
    ")\n",
    "search.fit(Xtr_emb, y_train)\n",
    "\n",
    "print(\"Best CV-accuracy :\", search.best_score_)\n",
    "print(\"Best params      :\", search.best_params_)\n",
    "best_cb = search.best_estimator_"
   ]
  },
  {
   "cell_type": "code",
   "execution_count": 5,
   "id": "ebb3056b",
   "metadata": {},
   "outputs": [
    {
     "name": "stderr",
     "output_type": "stream",
     "text": [
      "Batches: 100%|██████████| 15/15 [00:00<00:00, 76.49it/s]\n",
      "Warning: less than 75% gpu memory available for training. Free: 5374.75 Total: 7828.3125\n"
     ]
    },
    {
     "data": {
      "text/plain": [
       "<catboost.core.CatBoostClassifier at 0x7de05c644040>"
      ]
     },
     "execution_count": 5,
     "metadata": {},
     "output_type": "execute_result"
    }
   ],
   "source": [
    "# -------------------- retrain on full training set --------------------\n",
    "X_full_emb = embed(X_full)\n",
    "best_cb.fit(X_full_emb, y_full)"
   ]
  },
  {
   "cell_type": "code",
   "execution_count": 6,
   "id": "00b06cc6",
   "metadata": {},
   "outputs": [
    {
     "name": "stderr",
     "output_type": "stream",
     "text": [
      "Batches: 100%|██████████| 4/4 [00:00<00:00, 44.96it/s]"
     ]
    },
    {
     "name": "stdout",
     "output_type": "stream",
     "text": [
      "\n",
      "Test accuracy: 0.5769\n",
      "\n",
      "              precision    recall  f1-score   support\n",
      "\n",
      "      delete       0.61      0.55      0.58        78\n",
      "      insert       0.57      0.60      0.59        81\n",
      "     replace       0.55      0.57      0.56        75\n",
      "\n",
      "    accuracy                           0.58       234\n",
      "   macro avg       0.58      0.58      0.58       234\n",
      "weighted avg       0.58      0.58      0.58       234\n",
      "\n"
     ]
    },
    {
     "name": "stderr",
     "output_type": "stream",
     "text": [
      "\n"
     ]
    },
    {
     "data": {
      "image/png": "[encoded data removed]",
      "text/plain": [
       "<Figure size 640x480 with 2 Axes>"
      ]
     },
     "metadata": {},
     "output_type": "display_data"
    }
   ],
   "source": [
    "# -------------------- test evaluation --------------------\n",
    "X_test    = test_df[\"Review Comment\"].astype(str)\n",
    "y_test    = test_df[\"Expected Operation by Developer\"]\n",
    "Xtest_emb = embed(X_test)\n",
    "\n",
    "y_pred = best_cb.predict(Xtest_emb)\n",
    "acc    = accuracy_score(y_test, y_pred)\n",
    "print(f\"\\nTest accuracy: {acc:.4f}\\n\")\n",
    "print(classification_report(y_test, y_pred))\n",
    "\n",
    "cm = confusion_matrix(y_test, y_pred, labels=np.unique(y_full))\n",
    "sns.heatmap(cm, annot=True, fmt=\"d\", cmap=\"Blues\",\n",
    "            xticklabels=np.unique(y_full),\n",
    "            yticklabels=np.unique(y_full))\n",
    "plt.xlabel(\"Predicted\"); plt.ylabel(\"True\"); plt.title(\"Confusion Matrix\")\n",
    "plt.show()"
   ]
  },
  {
   "cell_type": "code",
   "execution_count": 7,
   "id": "fe0369c6",
   "metadata": {},
   "outputs": [
    {
     "name": "stdout",
     "output_type": "stream",
     "text": [
      "Top 10 embedding dimensions by importance: [319 376 286 261  11 151 317 149 382 201]\n"
     ]
    }
   ],
   "source": [
    "# -------------------- feature importance (embedding dims) --------------------\n",
    "imp = best_cb.get_feature_importance(type=\"FeatureImportance\")\n",
    "top = np.argsort(imp)[-10:][::-1]\n",
    "print(\"Top 10 embedding dimensions by importance:\", top)\n"
   ]
  }
 ],
 "metadata": {
  "kernelspec": {
   "display_name": "GPU",
   "language": "python",
   "name": "python3"
  },
  "language_info": {
   "codemirror_mode": {
    "name": "ipython",
    "version": 3
   },
   "file_extension": ".py",
   "mimetype": "text/x-python",
   "name": "python",
   "nbconvert_exporter": "python",
   "pygments_lexer": "ipython3",
   "version": "3.10.16"
  }
 },
 "nbformat": 4,
 "nbformat_minor": 5
}
